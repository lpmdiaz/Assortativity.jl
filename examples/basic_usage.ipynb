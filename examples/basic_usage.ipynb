{
 "cells": [
  {
   "cell_type": "code",
   "execution_count": 1,
   "metadata": {},
   "outputs": [
    {
     "name": "stderr",
     "output_type": "stream",
     "text": [
      "┌ Info: Recompiling stale cache file C:\\Users\\leo-d\\.julia\\compiled\\v1.2\\NetworkInference\\WOYob.ji for NetworkInference [6b44d3db-2bc5-5ac3-b70f-26aa69b1b11b]\n",
      "└ @ Base loading.jl:1240\n",
      "┌ Warning: Package NetworkInference does not have EmpiricalBayes in its dependencies:\n",
      "│ - If you have NetworkInference checked out for development and have\n",
      "│   added EmpiricalBayes as a dependency but haven't updated your primary\n",
      "│   environment's manifest file, try `Pkg.resolve()`.\n",
      "│ - Otherwise you may need to report an issue with NetworkInference\n",
      "└ Loading EmpiricalBayes into NetworkInference from project dependency, future warnings for NetworkInference are suppressed.\n"
     ]
    },
    {
     "data": {
      "text/plain": [
       "Main.Assortativity"
      ]
     },
     "execution_count": 1,
     "metadata": {},
     "output_type": "execute_result"
    }
   ],
   "source": [
    "include(\"../src/Assortativity.jl\")"
   ]
  },
  {
   "cell_type": "code",
   "execution_count": 2,
   "metadata": {},
   "outputs": [
    {
     "data": {
      "text/plain": [
       "CorrelationNetworkInference"
      ]
     },
     "execution_count": 2,
     "metadata": {},
     "output_type": "execute_result"
    }
   ],
   "source": [
    "using NetworkInference"
   ]
  },
  {
   "cell_type": "markdown",
   "metadata": {},
   "source": [
    "### Use the NetworkInference.jl package to load data, infer networks, write network to file and load network"
   ]
  },
  {
   "cell_type": "code",
   "execution_count": null,
   "metadata": {},
   "outputs": [],
   "source": [
    "# set filenames\n",
    "\n",
    "# get current directory name\n",
    "dir = dirname(Base.source_path())\n",
    "\n",
    "# read directory content\n",
    "readdir(dir)\n",
    "\n",
    "# get current file full path\n",
    "currfile_path = @__FILE__\n",
    "\n",
    "# manipulate paths\n",
    "dirname(dir)\n",
    "basename(dir)\n",
    "splitpath(dir)\n",
    "joinpath(dirname(@__FILE__), \"data\")\n",
    "joinpath(dirname(dir), basename(dir), splitpath(@__FILE__)[end])\n",
    "joinpath(dir, currfile_path)\n",
    "out_path = \"\"\n",
    "groups_filename = \"\"\n",
    "data_path = \"\"\n",
    "\n",
    "# one step\n",
    "\n",
    "# multiple steps"
   ]
  },
  {
   "cell_type": "markdown",
   "metadata": {},
   "source": [
    "### Accessing network properties"
   ]
  },
  {
   "cell_type": "code",
   "execution_count": null,
   "metadata": {},
   "outputs": [],
   "source": [
    "nodes_number = length(network.nodes) # number of nodes in the full InferredNetwork\n",
    "edges_number = length(network.edges) # number of edges in the full InferredNetwork"
   ]
  },
  {
   "cell_type": "markdown",
   "metadata": {},
   "source": [
    "### ..."
   ]
  },
  {
   "cell_type": "code",
   "execution_count": null,
   "metadata": {},
   "outputs": [],
   "source": [
    "# use the Assortativity.jl package to get the assortativity coefficients and other graph measures\n",
    "\n",
    "#  just assortativity() will return degree, adding dictionaries will return label assortativity"
   ]
  }
 ],
 "metadata": {
  "kernelspec": {
   "display_name": "Julia 1.2.0",
   "language": "julia",
   "name": "julia-1.2"
  },
  "language_info": {
   "file_extension": ".jl",
   "mimetype": "application/julia",
   "name": "julia",
   "version": "1.2.0"
  }
 },
 "nbformat": 4,
 "nbformat_minor": 2
}
