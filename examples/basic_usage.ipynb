{
 "cells": [
  {
   "cell_type": "markdown",
   "metadata": {},
   "source": [
    "## Setting up\n",
    "\n",
    "### Loading required modules"
   ]
  },
  {
   "cell_type": "code",
   "execution_count": 1,
   "metadata": {},
   "outputs": [],
   "source": [
    "using NetworkInference, Assortativity, LightGraphs"
   ]
  },
  {
   "cell_type": "markdown",
   "metadata": {},
   "source": [
    "### Defining paths and filenames"
   ]
  },
  {
   "cell_type": "code",
   "execution_count": 2,
   "metadata": {},
   "outputs": [
    {
     "data": {
      "text/plain": [
       "\"groups.tsv\""
      ]
     },
     "execution_count": 2,
     "metadata": {},
     "output_type": "execute_result"
    }
   ],
   "source": [
    "datadir = \"data/\"\n",
    "data_filename = \"data.csv\"\n",
    "groups_filename = \"groups.tsv\""
   ]
  },
  {
   "cell_type": "markdown",
   "metadata": {},
   "source": [
    "## Use `NetworkInference.jl` to infer networks and write networks to file\n",
    "\n",
    "### 1. Inferring networks\n",
    "\n",
    "#### One step"
   ]
  },
  {
   "cell_type": "code",
   "execution_count": 3,
   "metadata": {},
   "outputs": [
    {
     "name": "stdout",
     "output_type": "stream",
     "text": [
      "Getting nodes...\n",
      "Inferring network...\n",
      "Getting nodes...\n",
      "Inferring network...\n"
     ]
    },
    {
     "data": {
      "text/plain": [
       "InferredNetwork"
      ]
     },
     "execution_count": 3,
     "metadata": {},
     "output_type": "execute_result"
    }
   ],
   "source": [
    "pidc_net = infer_network(datadir * data_filename, PIDCNetworkInference(), delim = ',')\n",
    "signed_pearson_net = infer_network(datadir * data_filename, CorrelationNetworkInference(\"Pearson\", true, nothing), delim = ',')\n",
    "\n",
    "typeof(pidc_net)"
   ]
  },
  {
   "cell_type": "markdown",
   "metadata": {},
   "source": [
    "#### Multiple steps"
   ]
  },
  {
   "cell_type": "code",
   "execution_count": 4,
   "metadata": {},
   "outputs": [
    {
     "data": {
      "text/plain": [
       "InferredNetwork"
      ]
     },
     "execution_count": 4,
     "metadata": {},
     "output_type": "execute_result"
    }
   ],
   "source": [
    "# first get the nodes and expression values from the data\n",
    "nodes, expression_values = get_nodes(datadir * data_filename, delim = ',', get_values = true)\n",
    "\n",
    "# then infer networks\n",
    "mi_net = InferredNetwork(MINetworkInference(), nodes)\n",
    "unsigned_spearman_net = InferredNetwork(CorrelationNetworkInference(\"Spearman\", false, expression_values), nodes)\n",
    "\n",
    "typeof(unsigned_spearman_net)"
   ]
  },
  {
   "cell_type": "markdown",
   "metadata": {},
   "source": [
    "### 2. Accessing network properties"
   ]
  },
  {
   "cell_type": "code",
   "execution_count": 5,
   "metadata": {},
   "outputs": [
    {
     "data": {
      "text/plain": [
       "(69, 2346)"
      ]
     },
     "execution_count": 5,
     "metadata": {},
     "output_type": "execute_result"
    }
   ],
   "source": [
    "# number of nodes and edges of an InferredNetwork\n",
    "number_of_nodes = length(mi_net.nodes)\n",
    "number_of_edges = length(mi_net.edges)\n",
    "\n",
    "number_of_nodes, number_of_edges"
   ]
  },
  {
   "cell_type": "code",
   "execution_count": 6,
   "metadata": {},
   "outputs": [
    {
     "data": {
      "text/plain": [
       "(Node(\"ACTB\", [4, 4, 4, 4, 5, 4, 4, 4, 5, 4  …  4, 4, 5, 2, 4, 4, 3, 5, 4, 3], 6, [0.021653543307086614, 0.07874015748031496, 0.17716535433070865, 0.5885826771653543, 0.1141732283464567, 0.01968503937007874]), NetworkInference.Edge(Node[Node(\"FGF4\", [4, 4, 4, 4, 4, 4, 4, 4, 4, 4  …  1, 1, 1, 1, 1, 1, 1, 1, 1, 1], 5, [0.46062992125984253, 0.011811023622047244, 0.15748031496062992, 0.3484251968503937, 0.021653543307086614]), Node(\"POU5F1\", [5, 4, 5, 5, 7, 5, 4, 5, 5, 5  …  1, 1, 1, 1, 1, 1, 1, 1, 1, 1], 7, [0.33661417322834647, 0.007874015748031496, 0.07086614173228346, 0.25984251968503935, 0.28346456692913385, 0.02952755905511811, 0.011811023622047244])], 0.8358907981753785))"
      ]
     },
     "execution_count": 6,
     "metadata": {},
     "output_type": "execute_result"
    }
   ],
   "source": [
    "# access nodes and edges of an InferredNetwork\n",
    "unsigned_spearman_net.nodes[1], unsigned_spearman_net.edges[1]"
   ]
  },
  {
   "cell_type": "markdown",
   "metadata": {},
   "source": [
    "### 3. Writing networks to file"
   ]
  },
  {
   "cell_type": "code",
   "execution_count": 7,
   "metadata": {},
   "outputs": [],
   "source": [
    "# export the network to file where each line stores an edge in the form: node1 - node2 - weight of the edge\n",
    "filename = \"pidc_network.txt\"\n",
    "write_network_file(datadir * filename, pidc_net)"
   ]
  },
  {
   "cell_type": "code",
   "execution_count": 8,
   "metadata": {},
   "outputs": [
    {
     "data": {
      "text/plain": [
       "10-element Array{Node,1}:\n",
       " Node(\"SALL4\", Int64[], 0, Float64[])\n",
       " Node(\"LIN28\", Int64[], 0, Float64[])\n",
       " Node(\"GLI2\", Int64[], 0, Float64[]) \n",
       " Node(\"VIM\", Int64[], 0, Float64[])  \n",
       " Node(\"CDK2\", Int64[], 0, Float64[]) \n",
       " Node(\"CLDN6\", Int64[], 0, Float64[])\n",
       " Node(\"PAX6\", Int64[], 0, Float64[]) \n",
       " Node(\"DNMT1\", Int64[], 0, Float64[])\n",
       " Node(\"CD34\", Int64[], 0, Float64[]) \n",
       " Node(\"ACTB\", Int64[], 0, Float64[]) "
      ]
     },
     "execution_count": 8,
     "metadata": {},
     "output_type": "execute_result"
    }
   ],
   "source": [
    "# one can also read a previously inferred network that has been exported\n",
    "read_network_file(datadir * filename).nodes[1:10] # print the first 10 nodes of the imported network"
   ]
  },
  {
   "cell_type": "markdown",
   "metadata": {},
   "source": [
    "## Using `Assortativity.jl`\n",
    "\n",
    "### 1. Loading a network from file"
   ]
  },
  {
   "cell_type": "code",
   "execution_count": 9,
   "metadata": {},
   "outputs": [
    {
     "data": {
      "text/plain": [
       "69"
      ]
     },
     "execution_count": 9,
     "metadata": {},
     "output_type": "execute_result"
    }
   ],
   "source": [
    "# load the PIDC network inferred previously\n",
    "pidc_network = load_network(datadir * filename)\n",
    "\n",
    "# check the number of nodes\n",
    "length(pidc_network.nodes)"
   ]
  },
  {
   "cell_type": "markdown",
   "metadata": {},
   "source": [
    "### 2. Converting an `InferredNetwork` to a `SimpleGraph`\n",
    "\n",
    "This produces a SimpleGraph storing the edges from the InferredNetwork in no particular order. Each node is represented by a number, which is why the `ids_to_genes` object is used to keep track of nodes."
   ]
  },
  {
   "cell_type": "code",
   "execution_count": 10,
   "metadata": {},
   "outputs": [
    {
     "name": "stdout",
     "output_type": "stream",
     "text": [
      "thread = 1 warning: only found 11 / 12 columns on data row: 19. Filling remaining columns with `missing`\n"
     ]
    },
    {
     "data": {
      "text/plain": [
       "Dict{Symbol,Int64} with 12 entries:\n",
       "  :Cell_Cycle          => 1\n",
       "  :Core_Pluripotency   => 3\n",
       "  :Primed_Pluripotency => 9\n",
       "  :Chromatin_Modulator => 2\n",
       "  :Endoderm            => 4\n",
       "  :Trophoectoderm      => 12\n",
       "  :Loading_Control     => 5\n",
       "  :Neuroectoderm       => 8\n",
       "  :Mesoderm            => 6\n",
       "  :Naive_Pluripotency  => 7\n",
       "  :Signalling          => 11\n",
       "  :Primitive_Endoderm  => 10"
      ]
     },
     "execution_count": 10,
     "metadata": {},
     "output_type": "execute_result"
    }
   ],
   "source": [
    "# get groups annotations i.e. which node labels belongs to which group\n",
    "genes_to_groups = get_labels_to_groups(pidc_network.nodes, datadir * groups_filename)\n",
    "\n",
    "# assign an index to each group\n",
    "groups_to_indices = get_groups_to_indices(genes_to_groups)"
   ]
  },
  {
   "cell_type": "code",
   "execution_count": 11,
   "metadata": {},
   "outputs": [
    {
     "data": {
      "text/plain": [
       "({69, 2346} undirected simple Int64 graph, Dict(68 => \"LIFR\",2 => \"LIN28\",11 => \"BMPR1A\",39 => \"BMP4\",46 => \"DPPA4\",25 => \"REST\",55 => \"MYST3\",42 => \"HES1\",29 => \"PTPN11\",58 => \"TCF3\"…))"
      ]
     },
     "execution_count": 11,
     "metadata": {},
     "output_type": "execute_result"
    }
   ],
   "source": [
    "# convert an InferredNetwork to a SimpleGraph\n",
    "pidc_graph, ids_to_genes = InferredNetwork_to_LightGraph(pidc_network)"
   ]
  },
  {
   "cell_type": "markdown",
   "metadata": {},
   "source": [
    "One can then access the SimpleGraph properties e.g."
   ]
  },
  {
   "cell_type": "code",
   "execution_count": 12,
   "metadata": {},
   "outputs": [
    {
     "data": {
      "text/plain": [
       "(2346, 69)"
      ]
     },
     "execution_count": 12,
     "metadata": {},
     "output_type": "execute_result"
    }
   ],
   "source": [
    "number_of_edges = ne(pidc_graph)\n",
    "number_of_nodes = nv(pidc_graph)\n",
    "\n",
    "number_of_edges, number_of_nodes"
   ]
  },
  {
   "cell_type": "markdown",
   "metadata": {},
   "source": [
    "The correspondence between the SimpleGraph and the genes works this way:"
   ]
  },
  {
   "cell_type": "code",
   "execution_count": 13,
   "metadata": {},
   "outputs": [
    {
     "name": "stdout",
     "output_type": "stream",
     "text": [
      "The first edge in the graph is SALL4 => LIN28.\n"
     ]
    }
   ],
   "source": [
    "first_edge = collect(edges(pidc_graph))[1] # look at the first edge in the network\n",
    "source = first_edge.src # source of the edge\n",
    "destination = first_edge.dst # destination of the edge\n",
    "\n",
    "println(\"The first edge in the graph is $(ids_to_genes[source]) => $(ids_to_genes[destination]).\")"
   ]
  },
  {
   "cell_type": "markdown",
   "metadata": {},
   "source": [
    "### 3. Calculating the assortativity coefficient\n",
    "\n",
    "#### Assortativity coefficient of a `SimpleGraph` type\n",
    "\n",
    "First load the network at a given threshold number of edges; this is done on the InferredNetwork because the SimpleGraph does not keep track of edges order."
   ]
  },
  {
   "cell_type": "code",
   "execution_count": 14,
   "metadata": {},
   "outputs": [
    {
     "data": {
      "text/plain": [
       "({67, 150} undirected simple Int64 graph, Dict(2 => \"FGF5\",11 => \"DNMT3B\",39 => \"CDK2\",46 => \"SOX2\",25 => \"NR0B1\",55 => \"TBX3\",42 => \"SETDB1\",66 => \"PRMT6\",58 => \"UTF1\",29 => \"TRP53\"…))"
      ]
     },
     "execution_count": 14,
     "metadata": {},
     "output_type": "execute_result"
    }
   ],
   "source": [
    "# load the PIDC network at a threshold of 150 edges\n",
    "pidc_network_150 = set_threshold(pidc_network, 150)\n",
    "\n",
    "# then convert the network at that threshold to a SimpleGraph\n",
    "pidc_graph_150, ids_to_genes = InferredNetwork_to_LightGraph(pidc_network_150)"
   ]
  },
  {
   "cell_type": "markdown",
   "metadata": {},
   "source": [
    "Then calculate the assortativity coefficient of the graph. Given only a `SimpleGraph`, the `assortativity` and `second_neighbour_assortativity` functions will return the degree assortativity, and one needs to give the dictionaries as illustrated below as arguments in order for them to return *label* assortativity calculated from group *labels* (here being referred to as **functional assortativity** because groups were chosen to describe biological *functions*)."
   ]
  },
  {
   "cell_type": "code",
   "execution_count": 15,
   "metadata": {},
   "outputs": [
    {
     "name": "stderr",
     "output_type": "stream",
     "text": [
      "┌ Warning: 7 edges were omitted out of 150 considered (at least one node with excess degree of 0)\n",
      "└ @ Assortativity C:\\Users\\leo-d\\.julia\\packages\\Assortativity\\1tn7S\\src\\measures.jl:61\n",
      "┌ Warning: 24 edges were omitted out of 1472 considered (at least one node with excess degree of 0)\n",
      "└ @ Assortativity C:\\Users\\leo-d\\.julia\\packages\\Assortativity\\1tn7S\\src\\measures.jl:164\n"
     ]
    },
    {
     "data": {
      "text/plain": [
       "AssortativityObject(0.14659736650356758, [8 52 … 6 4; 52 248 … 28 14; … ; 6 28 … 52 0; 4 14 … 0 0], Dict(:Cell_Cycle => 1,:Primed_Pluripotency => 9,:Core_Pluripotency => 3,:Naive_Pluripotency => 7,:Chromatin_Modulator => 2,:Trophoectoderm => 12,:Neuroectoderm => 8,:Loading_Control => 5,:Signalling => 11,:Endoderm => 4…))"
      ]
     },
     "execution_count": 15,
     "metadata": {},
     "output_type": "execute_result"
    }
   ],
   "source": [
    "# calculate the degree assortativity of the graph\n",
    "degree_assortativity = assortativity(pidc_graph_150)\n",
    "excess_degree_assortativity = assortativity(pidc_graph_150, excess_degree = true)\n",
    "second_neighbour_degree_assortativity = second_neighbour_assortativity(pidc_graph_150)\n",
    "second_neighbour_excess_degree_assortativity = second_neighbour_assortativity(pidc_graph_150, excess_degree = true)\n",
    "\n",
    "# calculate the functional assortativity of the graph\n",
    "functional_assortativity = assortativity(pidc_graph_150, genes_to_groups, groups_to_indices, ids_to_genes)\n",
    "second_neighbour_functional_assortativity = second_neighbour_assortativity(pidc_graph_150, genes_to_groups, groups_to_indices, ids_to_genes)"
   ]
  },
  {
   "cell_type": "markdown",
   "metadata": {},
   "source": [
    "The excess degree assortativity may return a warning, as illustrated above, in case the excess degree for a given node is 0 (this means the degree of that node is 1) and as a result the connectivity matrix cannot be updated.\n",
    "\n",
    "These functions return an AssortativityObject which is used to store specific information about the assortativty coefficient. Its properties can be accessed as follows:"
   ]
  },
  {
   "cell_type": "code",
   "execution_count": 16,
   "metadata": {},
   "outputs": [
    {
     "name": "stdout",
     "output_type": "stream",
     "text": [
      "functional_assortativity.value = 0.1834038054968288\n",
      "functional_assortativity.connectivity = [0 8 4 0 1 0 0 1 0 0 0 0; 8 26 12 0 4 0 0 8 2 0 7 1; 4 12 10 0 2 0 14 8 1 0 5 2; 0 0 0 0 0 0 0 0 1 0 2 0; 1 4 2 0 0 0 0 0 0 0 3 0; 0 0 0 0 0 0 0 0 0 0 0 0; 0 0 14 0 0 0 30 1 0 0 7 0; 1 8 8 0 0 0 1 18 1 0 6 0; 0 2 1 1 0 0 0 1 6 0 2 0; 0 0 0 0 0 0 0 0 0 0 0 0; 0 7 5 2 3 0 7 6 2 0 4 0; 0 1 2 0 0 0 0 0 0 0 0 0]\n",
      "functional_assortativity.groups = Dict(:Cell_Cycle => 1,:Primed_Pluripotency => 9,:Core_Pluripotency => 3,:Naive_Pluripotency => 7,:Chromatin_Modulator => 2,:Trophoectoderm => 12,:Neuroectoderm => 8,:Loading_Control => 5,:Signalling => 11,:Endoderm => 4)\n"
     ]
    },
    {
     "data": {
      "text/plain": [
       "AssortativityObject"
      ]
     },
     "execution_count": 16,
     "metadata": {},
     "output_type": "execute_result"
    }
   ],
   "source": [
    "@show functional_assortativity.value # value of the assortativity coefficient\n",
    "@show functional_assortativity.connectivity # connectivity matrix\n",
    "@show functional_assortativity.groups # groups present in the connectivity matrix\n",
    "\n",
    "typeof(functional_assortativity)"
   ]
  },
  {
   "cell_type": "markdown",
   "metadata": {},
   "source": [
    "Not all groups from the original dataset may be present in the graph as is the case here (this is because only the top 150 edges from the original network are included and these do not connect nodes from all groups). The `AssortativityObject` can be filtered out for groups not currently present for clarity by doing:"
   ]
  },
  {
   "cell_type": "code",
   "execution_count": 17,
   "metadata": {},
   "outputs": [
    {
     "data": {
      "text/plain": [
       "AssortativityObject(0.1834038054968288, [0 8 … 0 0; 8 26 … 7 1; … ; 0 7 … 4 0; 0 1 … 0 0], Dict(:Cell_Cycle => 1,:Core_Pluripotency => 3,:Primed_Pluripotency => 8,:Naive_Pluripotency => 6,:Chromatin_Modulator => 2,:Loading_Control => 5,:Neuroectoderm => 7,:Trophoectoderm => 10,:Signalling => 9,:Endoderm => 4…))"
      ]
     },
     "execution_count": 17,
     "metadata": {},
     "output_type": "execute_result"
    }
   ],
   "source": [
    "filter_connectivity(functional_assortativity)"
   ]
  },
  {
   "cell_type": "markdown",
   "metadata": {},
   "source": [
    "#### Assortativity coefficient of a `NetworkInference` type\n",
    "\n",
    "This package also supports the dispatch of the `assortativity` and `second_neighbour_assortativity` functions directly on the `NetworkInference` type as illustrated below. The main difference with manually calculating the assortativity coefficient on a `SimpleGraph` is that the following functions do not return the `ids_to_genes` (at the moment)."
   ]
  },
  {
   "cell_type": "code",
   "execution_count": 18,
   "metadata": {},
   "outputs": [
    {
     "name": "stdout",
     "output_type": "stream",
     "text": [
      "(assortativity(pidc_network_150)).value = -0.020952380952380945\n",
      "assortativity(pidc_network, 150) = AssortativityObject(-0.020952380952380945, [0 1 6 0 0 0 0 0 0 0 0; 1 0 4 1 7 2 2 1 0 0 0; 6 4 6 2 8 9 5 3 1 0 1; 0 1 2 0 7 2 1 3 3 0 1; 0 7 8 7 8 8 4 8 3 1 1; 0 2 9 2 8 0 2 4 2 1 0; 0 2 5 1 4 2 2 4 1 0 0; 0 1 3 3 8 4 4 14 10 5 4; 0 0 1 3 3 2 1 10 2 2 3; 0 0 0 0 1 1 0 5 2 0 1; 0 0 1 1 1 0 0 4 3 1 0], nothing)\n",
      "[assortativity.value for assortativity = assortativities] = [0.08432338452622433, -0.020952380952380945, -0.010523965050386627]\n",
      "(second_neighbour_assortativity(pidc_network_150)).value = -0.008506008973770207\n",
      "(second_neighbour_assortativity(pidc_network, 150)).value = -0.008506008973770207\n",
      "second_neighbour_assortativity(pidc_network, 150, excess_degree=true) = AssortativityObject(-0.010231071193595532, [8 38 14 32 20 10 10 4 0 0; 38 48 28 64 30 18 60 24 10 8; 14 28 12 30 18 10 56 20 10 8; 32 64 30 72 40 52 104 46 14 18; 20 30 18 40 8 20 56 30 14 8; 10 18 10 52 20 20 30 8 2 8; 10 60 56 104 56 30 164 122 50 54; 4 24 20 46 30 8 122 36 30 26; 0 10 10 14 14 2 50 30 0 10; 0 8 8 18 8 8 54 26 10 0], nothing)\n"
     ]
    },
    {
     "name": "stderr",
     "output_type": "stream",
     "text": [
      "┌ Warning: 24 edges were omitted out of 1472 considered (at least one node with excess degree of 0)\n",
      "└ @ Assortativity C:\\Users\\leo-d\\.julia\\packages\\Assortativity\\1tn7S\\src\\measures.jl:164\n"
     ]
    },
    {
     "data": {
      "text/plain": [
       "3-element Array{Float64,1}:\n",
       "  0.05750754689299194 \n",
       " -0.008506008973770207\n",
       " -0.008424999514993757"
      ]
     },
     "execution_count": 18,
     "metadata": {},
     "output_type": "execute_result"
    }
   ],
   "source": [
    "### degree assortativity\n",
    "\n",
    "# dispatch direction on a NetworkInference type\n",
    "@show assortativity(pidc_network_150).value \n",
    "\n",
    "# one can set a threshold on the fly\n",
    "@show assortativity(pidc_network, 150)\n",
    "\n",
    "# or a range of thresholds\n",
    "assortativities = assortativity(pidc_network, (100:50:200))\n",
    "@show [assortativity.value for assortativity in assortativities]\n",
    "\n",
    "# the syntax is similar for the second neighbour flavour of the function\n",
    "@show second_neighbour_assortativity(pidc_network_150).value\n",
    "@show second_neighbour_assortativity(pidc_network, 150).value\n",
    "@show second_neighbour_assortativity(pidc_network, 150, excess_degree = true)\n",
    "assortativities = second_neighbour_assortativity(pidc_network, (100:50:200))\n",
    "[assortativity.value for assortativity in assortativities]"
   ]
  },
  {
   "cell_type": "code",
   "execution_count": 19,
   "metadata": {},
   "outputs": [
    {
     "name": "stdout",
     "output_type": "stream",
     "text": [
      "(assortativity(pidc_network_150, genes_to_groups, groups_to_indices)).value = 0.1834038054968288\n",
      "(assortativity(pidc_network, genes_to_groups, groups_to_indices, 150)).value = 0.1834038054968288\n",
      "(second_neighbour_assortativity(pidc_network_150, genes_to_groups, groups_to_indices)).value = 0.14659736650356758\n",
      "(second_neighbour_assortativity(pidc_network, genes_to_groups, groups_to_indices, 150)).value = 0.14659736650356758\n"
     ]
    },
    {
     "data": {
      "text/plain": [
       "3-element Array{Float64,1}:\n",
       " 0.1839972911836493 \n",
       " 0.14659736650356758\n",
       " 0.10564879262303448"
      ]
     },
     "execution_count": 19,
     "metadata": {},
     "output_type": "execute_result"
    }
   ],
   "source": [
    "### functional assortativity\n",
    "\n",
    "# works on the same way as above\n",
    "@show assortativity(pidc_network_150, genes_to_groups, groups_to_indices).value\n",
    "@show assortativity(pidc_network, genes_to_groups, groups_to_indices, 150).value\n",
    "assortativities = assortativity(pidc_network, genes_to_groups, groups_to_indices, (100:50:200))\n",
    "[assortativity.value for assortativity in assortativities]\n",
    "\n",
    "@show second_neighbour_assortativity(pidc_network_150, genes_to_groups, groups_to_indices).value\n",
    "@show second_neighbour_assortativity(pidc_network, genes_to_groups, groups_to_indices, 150).value\n",
    "assortativities = second_neighbour_assortativity(pidc_network, genes_to_groups, groups_to_indices, (100:50:200))\n",
    "[assortativity.value for assortativity in assortativities]"
   ]
  },
  {
   "cell_type": "markdown",
   "metadata": {},
   "source": [
    "### 4. Calculating other measures with `LightGraphs.jl`\n",
    "\n",
    "One can look at other properties of the graph to put the assortativity coefficient in context, e.g."
   ]
  },
  {
   "cell_type": "code",
   "execution_count": 20,
   "metadata": {},
   "outputs": [
    {
     "data": {
      "text/plain": [
       "(0.3953804347826087, 8, 0.5808, [6, 5, 4, 8, 5, 3, 11, 2, 8, 8  …  9, 1, 6, 5, 3, 3, 2, 1, 2, 1], [0.12268266047677814, 0.055696329813976875, 0.056643356643356645, 0.22378601485964708, 0.05086083344721765, 0.04285719559475216, 0.06955152583906182, 0.05994793333028629, 0.06226149773866762, 0.0667933494054432  …  0.04903812064651226, 0.0, 0.015363585635078848, 0.11955317733289758, 0.034215470758045846, 0.04123398509864984, 0.01229215396636211, 0.0, 0.030303030303030304, 0.0])"
      ]
     },
     "execution_count": 20,
     "metadata": {},
     "output_type": "execute_result"
    }
   ],
   "source": [
    "clustering_coefficient = global_clustering_coefficient(pidc_graph_150)\n",
    "communities_number = get_communities_number(pidc_graph_150)\n",
    "graph_modularity = get_modularity(pidc_graph_150)\n",
    "degree_sequence = degree(pidc_graph_150)\n",
    "centrality = betweenness_centrality(pidc_graph_150)\n",
    "\n",
    "clustering_coefficient, communities_number, graph_modularity, degree_sequence, centrality"
   ]
  },
  {
   "cell_type": "markdown",
   "metadata": {},
   "source": [
    "### 5. Noise and randomness\n",
    "\n",
    "The `Assortativity.jl` package also implements a few functions to add noise in different objects, as illustrated below."
   ]
  },
  {
   "cell_type": "code",
   "execution_count": 21,
   "metadata": {},
   "outputs": [
    {
     "data": {
      "text/plain": [
       "({67, 150} undirected simple Int64 graph, Dict(2 => \"FGF5\",11 => \"DNMT3B\",39 => \"CDK2\",46 => \"SOX2\",25 => \"NR0B1\",55 => \"TBX3\",42 => \"SETDB1\",66 => \"PRMT6\",58 => \"UTF1\",29 => \"TRP53\"…), 50)"
      ]
     },
     "execution_count": 21,
     "metadata": {},
     "output_type": "execute_result"
    }
   ],
   "source": [
    "# rewire 50 edges (edges are swapped two by two, 25 times) at random\n",
    "rewired_graph, rewired_ids_to_genes, rewired_edges = random_edge_rewiring(pidc_network_150, 25)"
   ]
  },
  {
   "cell_type": "code",
   "execution_count": 22,
   "metadata": {},
   "outputs": [
    {
     "data": {
      "text/plain": [
       "({57, 121} undirected simple Int64 graph, Dict(2 => \"CDH2\",11 => \"ACTB\",39 => \"RCC1\",46 => \"MYC\",25 => \"MKI67IP\",55 => \"GRB2\",42 => \"SOX2\",29 => \"REST\",8 => \"POU5F1\",57 => \"NR6A1\"…))"
      ]
     },
     "execution_count": 22,
     "metadata": {},
     "output_type": "execute_result"
    }
   ],
   "source": [
    "# randomly delete 10 nodes from the network\n",
    "random_node_deletion_graph, random_node_deletion_ids_to_genes = random_node_deletion(pidc_network_150, 10)"
   ]
  },
  {
   "cell_type": "code",
   "execution_count": 23,
   "metadata": {},
   "outputs": [
    {
     "data": {
      "text/plain": [
       "({67, 150} undirected simple Int64 graph, Dict(2 => \"FGF5\",11 => \"DNMT3B\",39 => \"CDK2\",46 => \"SOX2\",25 => \"NR0B1\",55 => \"TBX3\",42 => \"SETDB1\",66 => \"PRMT6\",58 => \"UTF1\",29 => \"TRP53\"…))"
      ]
     },
     "execution_count": 23,
     "metadata": {},
     "output_type": "execute_result"
    }
   ],
   "source": [
    "# make a random graph with as many nodes and edges as the one given in input\n",
    "random_graph, random_ids_to_genes = random_network(pidc_network_150)"
   ]
  },
  {
   "cell_type": "code",
   "execution_count": 24,
   "metadata": {},
   "outputs": [
    {
     "data": {
      "text/plain": [
       "(Dict(\"SALL4\" => :Core_Pluripotency,\"LIN28\" => :Core_Pluripotency,\"GLI2\" => :Neuroectoderm,\"NCAM1\" => :Neuroectoderm,\"VIM\" => :Neuroectoderm,\"CDK2\" => :Cell_Cycle,\"CLDN6\" => :Primed_Pluripotency,\"PAX6\" => :Neuroectoderm,\"DNMT1\" => :Core_Pluripotency,\"CD34\" => :Primed_Pluripotency…), 20)"
      ]
     },
     "execution_count": 24,
     "metadata": {},
     "output_type": "execute_result"
    }
   ],
   "source": [
    "# change the value of 20 genes (i.e. change their groups) in the genes_to_groups dictionary\n",
    "randomised_genes_to_groups, randomised_groups_count = randomise_annotations(genes_to_groups, 20)"
   ]
  },
  {
   "cell_type": "markdown",
   "metadata": {},
   "source": [
    "One can then calculate the assortativity coefficient of these randomised objects:"
   ]
  },
  {
   "cell_type": "code",
   "execution_count": 25,
   "metadata": {},
   "outputs": [
    {
     "name": "stdout",
     "output_type": "stream",
     "text": [
      "functional_assortativity.value = 0.1834038054968288"
     ]
    },
    {
     "data": {
      "text/plain": [
       "(0.16754756871035942, 0.2193871221206732, 0.006439742410303623, 0.07701934609167228)"
      ]
     },
     "execution_count": 25,
     "metadata": {},
     "output_type": "execute_result"
    },
    {
     "name": "stdout",
     "output_type": "stream",
     "text": [
      "\n"
     ]
    }
   ],
   "source": [
    "@show functional_assortativity.value # original functional assortativity coefficient\n",
    "\n",
    "rewired_functional_assortativity = assortativity(rewired_graph, genes_to_groups, groups_to_indices, rewired_ids_to_genes)\n",
    "random_node_deletion_functional_assortativity = assortativity(random_node_deletion_graph, genes_to_groups, groups_to_indices, random_node_deletion_ids_to_genes)\n",
    "random_functional_assortativity = assortativity(random_graph, genes_to_groups, groups_to_indices, random_ids_to_genes)\n",
    "randomised_groups_functional_assortativity = assortativity(pidc_graph_150, randomised_genes_to_groups, groups_to_indices, ids_to_genes)\n",
    "\n",
    "(rewired_functional_assortativity.value, random_node_deletion_functional_assortativity.value,\n",
    "random_functional_assortativity.value, randomised_groups_functional_assortativity.value)"
   ]
  },
  {
   "cell_type": "markdown",
   "metadata": {},
   "source": [
    "### 6. Printing and writing a network to JSON"
   ]
  },
  {
   "cell_type": "code",
   "execution_count": 26,
   "metadata": {},
   "outputs": [
    {
     "data": {
      "text/plain": [
       "Dict{String,Array{T,1} where T} with 2 entries:\n",
       "  \"nodes\" => JSON_node[JSON_node(\"CLDN6\", :Primed_Pluripotency, 9), JSON_node(\"…\n",
       "  \"edges\" => JSON_edge[JSON_edge(\"CLDN6\", \"IGF2\", 1.99259), JSON_edge(\"FGF5\", \"…"
      ]
     },
     "execution_count": 26,
     "metadata": {},
     "output_type": "execute_result"
    }
   ],
   "source": [
    "JSON_network = InferredNetwork_to_JSON(pidc_network_150, genes_to_groups, groups_to_indices)"
   ]
  },
  {
   "cell_type": "markdown",
   "metadata": {},
   "source": [
    "JSON formatted networks can easily be printed to the REPL by running `using JSON; JSON.print(stdout, JSON_network, 4)`.\n",
    "\n",
    "One can then export them:"
   ]
  },
  {
   "cell_type": "code",
   "execution_count": 27,
   "metadata": {},
   "outputs": [],
   "source": [
    "write_JSON_network(JSON_network, \"$(datadir)pidc_network_150.json\")"
   ]
  }
 ],
 "metadata": {
  "@webio": {
   "lastCommId": null,
   "lastKernelId": null
  },
  "kernelspec": {
   "display_name": "Julia 1.3.0",
   "language": "julia",
   "name": "julia-1.3"
  },
  "language_info": {
   "file_extension": ".jl",
   "mimetype": "application/julia",
   "name": "julia",
   "version": "1.3.0"
  }
 },
 "nbformat": 4,
 "nbformat_minor": 2
}
